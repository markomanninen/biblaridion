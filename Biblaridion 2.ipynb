{
 "cells": [
  {
   "cell_type": "code",
   "execution_count": 1,
   "metadata": {
    "collapsed": false
   },
   "outputs": [
    {
     "name": "stdout",
     "output_type": "stream",
     "text": [
      "Retrieving Strong's data from local csv copy...\n"
     ]
    }
   ],
   "source": [
    "import biblaridion as bn"
   ]
  },
  {
   "cell_type": "code",
   "execution_count": 2,
   "metadata": {
    "collapsed": false
   },
   "outputs": [
    {
     "name": "stdout",
     "output_type": "stream",
     "text": [
      "Retrieving data from local csv copy (data_processed/textus_receptus/greek_textus_receptus_utf8_var2) ...\n",
      "Retrieving data from local csv copy (data_processed/textus_receptus/greek_textus_receptus_utf8_var1) ...\n",
      "Retrieving data from local csv copy (data_processed/sblgnt/sblgnt) ...\n",
      "Retrieving data from local csv copy (data_processed/byzantine_2000/greek_byzantine_2000_parsed_utf8) ...\n",
      "Retrieving data from local csv copy (data_processed/tischendorf/greek_tischendorf_utf8) ...\n",
      "Retrieving data from local csv copy (data_processed/wh_ubs4/greek_WH_UBS4_parsed_utf8_var2) ...\n",
      "Retrieving data from local csv copy (data_processed/wh_ubs4/greek_WH_UBS4_parsed_utf8_var1) ...\n"
     ]
    }
   ],
   "source": [
    "x = bn.get_variations(['textus_receptus', 'sblgnt', 'byzantine_2000', 'tischendorf', 'wh_ubs4'], \n",
    "                      {'orig_book_index': 'Revelation', 'orig_chapter': 1})"
   ]
  },
  {
   "cell_type": "code",
   "execution_count": 3,
   "metadata": {
    "collapsed": false
   },
   "outputs": [],
   "source": [
    "#x['textus_receptus_var1']['data']"
   ]
  },
  {
   "cell_type": "code",
   "execution_count": 4,
   "metadata": {
    "collapsed": false
   },
   "outputs": [],
   "source": [
    "#x['textus_receptus_var2']['data']"
   ]
  },
  {
   "cell_type": "code",
   "execution_count": 5,
   "metadata": {
    "collapsed": false
   },
   "outputs": [],
   "source": [
    "#x['sblgnt']['data']"
   ]
  },
  {
   "cell_type": "code",
   "execution_count": 6,
   "metadata": {
    "collapsed": false
   },
   "outputs": [
    {
     "name": "stdout",
     "output_type": "stream",
     "text": [
      "1:2 ('ος εμαρτυρησεν τον λογον του θεου και την μαρτυριαν ιησου χριστου οσα ιδεν', 4, 94.59)\n",
      "\n",
      "1:3 ('μακαριος ο αναγινωσκων και οι ακουοντες το λογο της προφητειας και τηρουντες τα εν αυτη γεγραμμενα ο γαρ καιρος εγγυς', 4, 96.58)\n",
      "\n",
      "1:4 ('ιωαννης ταις επτα εκκλησιαις ταις εν τη ασια χαρις υμιν και ειρηνη απο ο ων και ο ην και ο ερχομενος και απο των επτα πνευματων α ενωπιον του θρονου αυτου', 10, 93.51)\n",
      "\n",
      "1:5 ('και απο ιησου χριστου ο μαρτυς ο πιστος ο πρωτοτοκος των νεκρων και ο αρχων των βασιλεων της γης τω αγαπντι ημας και λυσαντι ημας  των αμαρτιων εν τω αιματι αυτου', 15, 90.74)\n",
      "\n",
      "1:6 ('και εποιησεν ημας βασιλεια ιερεις τω θεω και πατρι αυτου αυτω η δοξα και το κρατος εις τους αιωνας αμην', 15, 85.44)\n",
      "\n",
      "1:8 ('εγω ειμι το α και το ω λεγει κυριος ο ων και ο ην και ο ερχομενος ο παντοκρατωρ', 17, 78.48)\n",
      "\n",
      "1:9 ('εγω ιωαννης ο αδελφος υμων και κοινωνος εν τη θλιψει και βασιλεια και υπομονη ιησου εγενομην εν τη νησω τη καλουμενη πατμω δια τον λογον του θεου και ', 52, 65.33)\n",
      "\n",
      "1:10 ('εγενομην εν πνευματι εν τη κυριακη ημερα και ηκουσα οπισω μου μεγαλην ως σαλπιγγος', 6, 92.68)\n",
      "\n",
      "1:11 ('λεγουσης ο βλεπεις γραψον εις βιβλιον και πεμψον ταις εκκλησιαις εις εφεσον και εις σμυρναν και εις περγαμον και εις θυατειρα και εις σαρδεις και εις φιλαδελφιαν και εις λαοδικιαν', 65, 63.69)\n",
      "\n",
      "1:12 ('και επεστρεψα βλεπειν την φωνην ητις ελαλε μετ εμου και επιστρεψας ειδον επτα λυχνιας χρυσας', 3, 96.74)\n",
      "\n",
      "1:13 ('και εν μεσω των λυχνιων ομοιον υι ανθρωπου ενδεδυμενον ποδηρη και περιεζωσμενον προς τοις μασοις ζωνην χρυσν', 8, 92.59)\n",
      "\n",
      "1:14 ('η δε κεφαλη αυτου και αι τριχες λευκαι ω εριον λευκον ως χιων και οι οφθαλμοι αυτου ως φλοξ πυρος', 3, 96.91)\n",
      "\n",
      "1:15 ('και οι ποδες αυτου ομοιοι χαλκολιβανω ως εν καμινω πεπυρωμεν και η φωνη αυτου ως φωνη υδατων πολλων', 2, 97.98)\n",
      "\n",
      "1:16 ('και εχων εν τη δεξια αυτου αστερας επτα και εκ του στοματος αυτου ρομφαια διστομος οξεια εκπορευομενη και η οψις αυτου ως ο ηλιος φαινει εν τη δυναμει αυτου', 6, 96.15)\n",
      "\n",
      "1:17 ('και οτε ειδον αυτον επεσα προς τους ποδας αυτου ως νεκρος και εθηκεν την δεξιαν αυτου επ εμε λεγων μη φοβου εγω ειμι ο πρωτος και ο εσχατος', 12, 91.37)\n",
      "\n",
      "1:18 ('και ο ζων και εγενομην νεκρος και ιδου ζων ειμι εις τους αιωνας των αιωνων και εχω τας κλεις του αου και του αου', 10, 91.07)\n",
      "\n",
      "1:19 ('γραψον α ειδες και α εισιν και α μελλει γνεσθαι μετα ταυτα', 1, 98.28)\n",
      "\n",
      "1:20 ('το μυστηριον των επτα αστερων  ειδες επι της δεξιας μου και τας επτα λυχνιας τας χρυσας οι επτα αστερες αγγελοι των επτα εκκλησιων εισιν και αι λυχνιαι επτα εκκλησιαι εισιν', 16, 90.7)\n",
      "\n"
     ]
    }
   ],
   "source": [
    "d1 = x['textus_receptus_var1']['data']\n",
    "d2 = x['sblgnt']['data']\n",
    "d3 = x['textus_receptus_var2']['data']\n",
    "d4 = x['tischendorf']['data']\n",
    "d5 = x['byzantine_2000']['data']\n",
    "d6 = x['wh_ubs4_var1']['data']\n",
    "d7 = x['wh_ubs4_var2']['data']\n",
    "\n",
    "for v in range(1, max(d1.orig_verse)+1):\n",
    "    \n",
    "    t1 = ''.join(d1[d1['orig_verse'] == v].text).lower()\n",
    "    t2 = ''.join(d2[d2['orig_verse'] == v].text).lower()\n",
    "    t3 = ''.join(d3[d3['orig_verse'] == v].text).lower()\n",
    "    t4 = ''.join(d4[d4['orig_verse'] == v].text).lower()\n",
    "    t5 = ''.join(d5[d5['orig_verse'] == v].text).lower()\n",
    "    t6 = ''.join(d6[d6['orig_verse'] == v].text).lower()\n",
    "    t7 = ''.join(d7[d7['orig_verse'] == v].text).lower()\n",
    "    \n",
    "    c = bn.strs_comparison([t1, t2, t3, t4, t5, t6, t7])\n",
    "    \n",
    "    if c[2] < 100:\n",
    "        print (\"1:%s\" % v, c)\n",
    "        print ()"
   ]
  },
  {
   "cell_type": "code",
   "execution_count": 7,
   "metadata": {
    "collapsed": false
   },
   "outputs": [
    {
     "name": "stdout",
     "output_type": "stream",
     "text": [
      "Retrieving data from local csv copy (data_processed/textus_receptus/greek_textus_receptus_utf8_var2) ...\n",
      "Retrieving data from local csv copy (data_processed/textus_receptus/greek_textus_receptus_utf8_var1) ...\n"
     ]
    }
   ],
   "source": [
    "d = bn.diff_manuscripts(source = {'manuscript': 'textus_receptus', 'var': 'var1'},\n",
    "                        target = {'manuscript': 'textus_receptus', 'var': 'var2'},\n",
    "                        filter_ = {'orig_book_index': 'Revelation', 'orig_chapter': 1})"
   ]
  },
  {
   "cell_type": "code",
   "execution_count": 8,
   "metadata": {
    "collapsed": false
   },
   "outputs": [
    {
     "data": {
      "text/html": [
       "<h2>Differences between <b style=\"background-color: #e6ffe6\">textus_receptus_var1</b> 1:11 <> <b style=\"background-color: #ffe6e6\">textus_receptus_var2</b> 1:11</h2>\n",
       "              <h3>Instances: 1 | Words: 1 | Chars: 4 | Isopsephy: 386</h3><br/><p><b>1:11</b> Words: 1 | Chars: 4 | Isopsephy: 17377 - 17763 = 386<br/><br/><span>λεγουσης εγω ειμι το α και το ω ο πρωτος και ο εσχατος και ο βλεπεις γραψον εις βιβλιον και πεμψον ταις ε</span><ins style=\"background:#e6ffe6;\">πτα ε</ins><span>κκλησιαις ταις εν ασια εις εφεσον και εις σμυρναν και εις περγαμον και εις θυατειρα και εις σαρδεις και εις φιλαδελφειαν και εις λαοδικειαν</span></p>"
      ],
      "text/plain": [
       "<IPython.core.display.HTML object>"
      ]
     },
     "execution_count": 8,
     "metadata": {},
     "output_type": "execute_result"
    }
   ],
   "source": [
    "from IPython.display import HTML\n",
    "HTML(d)"
   ]
  },
  {
   "cell_type": "code",
   "execution_count": null,
   "metadata": {
    "collapsed": true
   },
   "outputs": [],
   "source": []
  }
 ],
 "metadata": {
  "kernelspec": {
   "display_name": "Python 3",
   "language": "python",
   "name": "python3"
  },
  "language_info": {
   "codemirror_mode": {
    "name": "ipython",
    "version": 3
   },
   "file_extension": ".py",
   "mimetype": "text/x-python",
   "name": "python",
   "nbconvert_exporter": "python",
   "pygments_lexer": "ipython3",
   "version": "3.5.1"
  }
 },
 "nbformat": 4,
 "nbformat_minor": 0
}
